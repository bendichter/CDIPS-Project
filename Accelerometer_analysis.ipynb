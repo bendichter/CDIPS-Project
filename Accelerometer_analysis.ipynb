{
 "cells": [
  {
   "cell_type": "markdown",
   "metadata": {},
   "source": [
    "First I took out all the _MODEL folders because from what I can tell they look like copies of the data."
   ]
  },
  {
   "cell_type": "code",
   "execution_count": 5,
   "metadata": {
    "collapsed": true
   },
   "outputs": [],
   "source": [
    "import numpy as np\n",
    "import glob\n",
    "import scipy.fftpack as fft\n",
    "import itertools as it\n",
    "import matplotlib.pyplot as plt\n",
    "%matplotlib osx"
   ]
  },
  {
   "cell_type": "code",
   "execution_count": 12,
   "metadata": {
    "collapsed": false
   },
   "outputs": [],
   "source": [
    "def bits2acc(data):\n",
    "# convert data from bit to acceloration (taken from displayTrial.m)\n",
    "    return -14.709 + (data/63)*(2*14.709)\n",
    "\n",
    "fs = 32.0 #Hz (taken from MANUAL.txt)\n",
    "\n",
    "# load data\n",
    "all_data = {}\n",
    "for data_dir in glob.glob('/Users/elio/Desktop/CDIPS/CDIPS-Project/HMP_Dataset/*/'):\n",
    "    trial_data = []\n",
    "    for data_file in glob.glob(data_dir + '/*.txt'):\n",
    "        trial_data.append(np.genfromtxt(data_file))\n",
    "        \n",
    "    trial_data = [bits2acc(data) for data in trial_data]\n",
    "    \n",
    "    activity = data_dir[12:-1].replace('_',' ')\n",
    "    all_data[activity] = trial_data\n"
   ]
  },
  {
   "cell_type": "code",
   "execution_count": 13,
   "metadata": {
    "collapsed": false
   },
   "outputs": [
    {
     "name": "stdout",
     "output_type": "stream",
     "text": [
      "Desktop/CDIPS/CDIPS-Project/HMP Dataset/Getup bed: 101\n",
      "Desktop/CDIPS/CDIPS-Project/HMP Dataset/Walk MODEL: 20\n",
      "Desktop/CDIPS/CDIPS-Project/HMP Dataset/Eat meat: 5\n",
      "Desktop/CDIPS/CDIPS-Project/HMP Dataset/Descend stairs: 42\n",
      "Desktop/CDIPS/CDIPS-Project/HMP Dataset/Pour water: 100\n",
      "Desktop/CDIPS/CDIPS-Project/HMP Dataset/Standup chair: 102\n",
      "Desktop/CDIPS/CDIPS-Project/HMP Dataset/Sitdown chair MODEL: 20\n",
      "Desktop/CDIPS/CDIPS-Project/HMP Dataset/Sitdown chair: 100\n",
      "Desktop/CDIPS/CDIPS-Project/HMP Dataset/Use telephone: 13\n",
      "Desktop/CDIPS/CDIPS-Project/HMP Dataset/Standup chair MODEL: 20\n",
      "Desktop/CDIPS/CDIPS-Project/HMP Dataset/Getup bed MODEL: 20\n",
      "Desktop/CDIPS/CDIPS-Project/HMP Dataset/Climb stairs MODEL: 20\n",
      "Desktop/CDIPS/CDIPS-Project/HMP Dataset/Walk: 100\n",
      "Desktop/CDIPS/CDIPS-Project/HMP Dataset/Liedown bed: 28\n",
      "Desktop/CDIPS/CDIPS-Project/HMP Dataset/Brush teeth: 12\n",
      "Desktop/CDIPS/CDIPS-Project/HMP Dataset/Climb stairs: 102\n",
      "Desktop/CDIPS/CDIPS-Project/HMP Dataset/Drink glass MODEL: 20\n",
      "Desktop/CDIPS/CDIPS-Project/HMP Dataset/Pour water MODEL: 20\n",
      "Desktop/CDIPS/CDIPS-Project/HMP Dataset/Eat soup: 3\n",
      "Desktop/CDIPS/CDIPS-Project/HMP Dataset/Comb hair: 31\n",
      "Desktop/CDIPS/CDIPS-Project/HMP Dataset/Drink glass: 100\n"
     ]
    }
   ],
   "source": [
    "#how many trials are there of each activity?\n",
    "for activity, trials_data in all_data.iteritems():\n",
    "    print(activity + ': ' + str(len(trials_data)))"
   ]
  },
  {
   "cell_type": "markdown",
   "metadata": {},
   "source": [
    "OK, so the number of examples for each class varies wildly. We'll have to deal with that."
   ]
  },
  {
   "cell_type": "code",
   "execution_count": 14,
   "metadata": {
    "collapsed": false
   },
   "outputs": [
    {
     "ename": "IndexError",
     "evalue": "index 15 is out of bounds for axis 0 with size 15",
     "output_type": "error",
     "traceback": [
      "\u001b[0;31m---------------------------------------------------------------------------\u001b[0m",
      "\u001b[0;31mIndexError\u001b[0m                                Traceback (most recent call last)",
      "\u001b[0;32m<ipython-input-14-f4a992a18ea0>\u001b[0m in \u001b[0;36m<module>\u001b[0;34m()\u001b[0m\n\u001b[1;32m      3\u001b[0m \u001b[0;32mfor\u001b[0m \u001b[0mcount\u001b[0m\u001b[0;34m,\u001b[0m\u001b[0;34m(\u001b[0m\u001b[0mactivity\u001b[0m\u001b[0;34m,\u001b[0m \u001b[0mtrials_data\u001b[0m\u001b[0;34m)\u001b[0m \u001b[0;32min\u001b[0m \u001b[0menumerate\u001b[0m\u001b[0;34m(\u001b[0m\u001b[0mall_data\u001b[0m\u001b[0;34m.\u001b[0m\u001b[0miteritems\u001b[0m\u001b[0;34m(\u001b[0m\u001b[0;34m)\u001b[0m\u001b[0;34m)\u001b[0m\u001b[0;34m:\u001b[0m\u001b[0;34m\u001b[0m\u001b[0m\n\u001b[1;32m      4\u001b[0m     \u001b[0mdurs\u001b[0m \u001b[0;34m=\u001b[0m \u001b[0;34m[\u001b[0m\u001b[0mlen\u001b[0m\u001b[0;34m(\u001b[0m\u001b[0mdat\u001b[0m\u001b[0;34m)\u001b[0m\u001b[0;34m/\u001b[0m\u001b[0mfs\u001b[0m \u001b[0;32mfor\u001b[0m \u001b[0mdat\u001b[0m \u001b[0;32min\u001b[0m \u001b[0mtrials_data\u001b[0m\u001b[0;34m]\u001b[0m\u001b[0;34m\u001b[0m\u001b[0m\n\u001b[0;32m----> 5\u001b[0;31m     \u001b[0maxs\u001b[0m\u001b[0;34m.\u001b[0m\u001b[0mravel\u001b[0m\u001b[0;34m(\u001b[0m\u001b[0;34m)\u001b[0m\u001b[0;34m[\u001b[0m\u001b[0mcount\u001b[0m\u001b[0;34m]\u001b[0m\u001b[0;34m.\u001b[0m\u001b[0mhist\u001b[0m\u001b[0;34m(\u001b[0m\u001b[0mdurs\u001b[0m\u001b[0;34m)\u001b[0m\u001b[0;34m\u001b[0m\u001b[0m\n\u001b[0m\u001b[1;32m      6\u001b[0m     \u001b[0maxs\u001b[0m\u001b[0;34m.\u001b[0m\u001b[0mravel\u001b[0m\u001b[0;34m(\u001b[0m\u001b[0;34m)\u001b[0m\u001b[0;34m[\u001b[0m\u001b[0mcount\u001b[0m\u001b[0;34m]\u001b[0m\u001b[0;34m.\u001b[0m\u001b[0mset_title\u001b[0m\u001b[0;34m(\u001b[0m\u001b[0mactivity\u001b[0m\u001b[0;34m)\u001b[0m\u001b[0;34m\u001b[0m\u001b[0m\n\u001b[1;32m      7\u001b[0m \u001b[0mf\u001b[0m\u001b[0;34m.\u001b[0m\u001b[0msubplots_adjust\u001b[0m\u001b[0;34m(\u001b[0m\u001b[0mhspace\u001b[0m\u001b[0;34m=\u001b[0m\u001b[0;36m0.5\u001b[0m\u001b[0;34m,\u001b[0m\u001b[0mbottom\u001b[0m\u001b[0;34m=\u001b[0m\u001b[0;36m.05\u001b[0m\u001b[0;34m)\u001b[0m\u001b[0;34m\u001b[0m\u001b[0m\n",
      "\u001b[0;31mIndexError\u001b[0m: index 15 is out of bounds for axis 0 with size 15"
     ]
    }
   ],
   "source": [
    "#How long is each activity?\n",
    "f,axs = plt.subplots(5,3)\n",
    "for count,(activity, trials_data) in enumerate(all_data.iteritems()):\n",
    "    durs = [len(dat)/fs for dat in trials_data]\n",
    "    axs.ravel()[count].hist(durs)\n",
    "    axs.ravel()[count].set_title(activity)\n",
    "f.subplots_adjust(hspace=0.5,bottom=.05)"
   ]
  },
  {
   "cell_type": "markdown",
   "metadata": {},
   "source": [
    "This is pretty inconsistent too, but the values are reasonable for the tasks"
   ]
  },
  {
   "cell_type": "code",
   "execution_count": 9,
   "metadata": {
    "collapsed": false
   },
   "outputs": [],
   "source": [
    "def displayTrial(trial_data):\n",
    "    f,(ax1, ax2, ax3) = plt.subplots(3, sharex=True, sharey=True)\n",
    "    y = trial_data[:,0]\n",
    "    x = np.arange(len(y))/fs\n",
    "    ax1.plot(x,y)\n",
    "    ax1.set_ylabel('x')\n",
    "    ax2.plot(x,trial_data[:,1])\n",
    "    ax2.set_ylabel('y')\n",
    "    ax3.plot(x,trial_data[:,2])\n",
    "    ax3.set_ylabel('z')\n",
    "    ax3.set_xlabel('time (s)')\n",
    "\n",
    "for activity, trials_data in all_data.iteritems():\n",
    "    displayTrial(trials_data[0])\n",
    "    plt.suptitle(activity + ' acceleration')"
   ]
  },
  {
   "cell_type": "markdown",
   "metadata": {},
   "source": [
    "From looking that the examples, it appears that an FFT might provide useful features for classification, particularly tasks like brushing teeth and combing hair that might resemble movements of construction workers"
   ]
  },
  {
   "cell_type": "code",
   "execution_count": 10,
   "metadata": {
    "collapsed": false
   },
   "outputs": [],
   "source": [
    "all_data_fft = {}\n",
    "\n",
    "# do fft for each trial.\n",
    "for activity, trials_data in all_data.iteritems():\n",
    "    all_data_fft[activity] = [fft.rfft(trial_data,axis=0) for trial_data in trials_data]\n",
    "    \n",
    "\n",
    "def displayFFTtrial(trial_data):\n",
    "    f,(ax1, ax2, ax3) = plt.subplots(3, sharex=True, sharey=True)\n",
    "    y = trial_data[:,0]\n",
    "    x = fft.rfftfreq(shape(y)[0], d=1./fs)\n",
    "    ax1.plot(x,y)\n",
    "    ax1.set_ylabel('x')\n",
    "    ax2.plot(x,trial_data[:,1])\n",
    "    ax2.set_ylabel('y')\n",
    "    ax3.plot(x,trial_data[:,2])\n",
    "    ax3.set_ylabel('z')\n",
    "    ax3.set_xlabel('frequency (s)')\n",
    "\n",
    "for activity, trials_data in all_data_fft.iteritems():\n",
    "    displayFFTtrial(trials_data[0])\n",
    "    plt.suptitle(activity + ' fourier')"
   ]
  },
  {
   "cell_type": "markdown",
   "metadata": {},
   "source": [
    "TODO: Build classifier"
   ]
  },
  {
   "cell_type": "code",
   "execution_count": 11,
   "metadata": {
    "collapsed": false
   },
   "outputs": [
    {
     "ename": "IndentationError",
     "evalue": "expected an indented block (<ipython-input-11-709c8cb9a2e2>, line 4)",
     "output_type": "error",
     "traceback": [
      "\u001b[0;36m  File \u001b[0;32m\"<ipython-input-11-709c8cb9a2e2>\"\u001b[0;36m, line \u001b[0;32m4\u001b[0m\n\u001b[0;31m    \u001b[0m\n\u001b[0m    ^\u001b[0m\n\u001b[0;31mIndentationError\u001b[0m\u001b[0;31m:\u001b[0m expected an indented block\n"
     ]
    }
   ],
   "source": [
    "# rearrange data for classifier\n",
    "\n",
    "for activity, trials_data in all_data_fft.iteritems():\n",
    "    "
   ]
  },
  {
   "cell_type": "code",
   "execution_count": null,
   "metadata": {
    "collapsed": true
   },
   "outputs": [],
   "source": []
  }
 ],
 "metadata": {
  "kernelspec": {
   "display_name": "Python 2",
   "language": "python",
   "name": "python2"
  },
  "language_info": {
   "codemirror_mode": {
    "name": "ipython",
    "version": 2
   },
   "file_extension": ".py",
   "mimetype": "text/x-python",
   "name": "python",
   "nbconvert_exporter": "python",
   "pygments_lexer": "ipython2",
   "version": "2.7.10"
  }
 },
 "nbformat": 4,
 "nbformat_minor": 0
}
