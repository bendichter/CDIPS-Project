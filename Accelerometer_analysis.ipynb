{
 "cells": [
  {
   "cell_type": "markdown",
   "metadata": {},
   "source": [
    "First I took out all the _MODEL folders because from what I can tell they look like copies of the data."
   ]
  },
  {
   "cell_type": "code",
   "execution_count": 1,
   "metadata": {
    "collapsed": false
   },
   "outputs": [],
   "source": [
    "import numpy as np\n",
    "import glob\n",
    "from scipy.fftpack import fft,fftfreq\n",
    "import itertools as it\n",
    "import matplotlib.pyplot as plt\n",
    "from __future__ import division\n",
    "%matplotlib osx"
   ]
  },
  {
   "cell_type": "code",
   "execution_count": 2,
   "metadata": {
    "collapsed": false
   },
   "outputs": [],
   "source": [
    "def bits2acc(data):\n",
    "# convert data from bit to acceloration (taken from displayTrial.m)\n",
    "    return -14.709 + (data/63)*(2*14.709)\n",
    "\n",
    "fs = 32.0 #Hz (taken from MANUAL.txt)\n",
    "\n",
    "# load data\n",
    "all_data = {}\n",
    "for data_dir in glob.glob('./HMP_Dataset/*/'):\n",
    "    trial_data = []\n",
    "    if len(glob.glob(data_dir + '/*.txt')) > 5:\n",
    "        for data_file in glob.glob(data_dir + '/*.txt'):\n",
    "            trial_data.append(np.genfromtxt(data_file))\n",
    "\n",
    "        trial_data = [bits2acc(data) for data in trial_data]\n",
    "\n",
    "        activity = data_dir[14:-1].replace('_',' ')\n",
    "        all_data[activity] = trial_data\n"
   ]
  },
  {
   "cell_type": "code",
   "execution_count": 3,
   "metadata": {
    "collapsed": false
   },
   "outputs": [],
   "source": [
    "#How long is each activity?\n",
    "f,axs = plt.subplots(5,3)\n",
    "for count,(activity, trials_data) in enumerate(all_data.items()):\n",
    "    durs = [len(dat)/fs for dat in trials_data]\n",
    "    axs.ravel()[count].hist(durs)\n",
    "    axs.ravel()[count].set_title(activity + ': ' + str(len(trials_data)))\n",
    "f.subplots_adjust(hspace=0.5,bottom=.05)"
   ]
  },
  {
   "cell_type": "markdown",
   "metadata": {},
   "source": [
    "OK, so the number of examples for each class varies wildly. We'll have to deal with that. Duration is pretty inconsistent too, but the values are reasonable for the tasks"
   ]
  },
  {
   "cell_type": "code",
   "execution_count": 6,
   "metadata": {
    "collapsed": false
   },
   "outputs": [],
   "source": [
    "def displayTrial(trial_data):\n",
    "    f,(ax1, ax2, ax3) = plt.subplots(3, sharex=True, sharey=True)\n",
    "    y = trial_data[:,0]\n",
    "    x = np.arange(len(y))/fs\n",
    "    ax1.plot(x,y)\n",
    "    ax1.set_ylabel('x')\n",
    "    ax2.plot(x,trial_data[:,1])\n",
    "    ax2.set_ylabel('y')\n",
    "    ax3.plot(x,trial_data[:,2])\n",
    "    ax3.set_ylabel('z')\n",
    "    ax3.set_xlabel('time (s)')\n",
    "\n",
    "for activity, trials_data in all_data.items():\n",
    "    displayTrial(trials_data[0])\n",
    "    plt.suptitle(activity + ' acceleration')"
   ]
  },
  {
   "cell_type": "markdown",
   "metadata": {},
   "source": [
    "From looking that the examples, it appears that an FFT might provide useful features for classification, particularly tasks like brushing teeth and combing hair that might resemble movements of construction workers"
   ]
  },
  {
   "cell_type": "code",
   "execution_count": 9,
   "metadata": {
    "collapsed": false
   },
   "outputs": [
    {
     "ename": "AttributeError",
     "evalue": "'function' object has no attribute 'rfft'",
     "output_type": "error",
     "traceback": [
      "\u001b[0;31m---------------------------------------------------------------------------\u001b[0m",
      "\u001b[0;31mAttributeError\u001b[0m                            Traceback (most recent call last)",
      "\u001b[0;32m<ipython-input-9-72625968d27e>\u001b[0m in \u001b[0;36m<module>\u001b[0;34m()\u001b[0m\n\u001b[1;32m      3\u001b[0m \u001b[0;31m# do fft for each trial.\u001b[0m\u001b[0;34m\u001b[0m\u001b[0;34m\u001b[0m\u001b[0m\n\u001b[1;32m      4\u001b[0m \u001b[0;32mfor\u001b[0m \u001b[0mactivity\u001b[0m\u001b[0;34m,\u001b[0m \u001b[0mtrials_data\u001b[0m \u001b[0;32min\u001b[0m \u001b[0mall_data\u001b[0m\u001b[0;34m.\u001b[0m\u001b[0mitems\u001b[0m\u001b[0;34m(\u001b[0m\u001b[0;34m)\u001b[0m\u001b[0;34m:\u001b[0m\u001b[0;34m\u001b[0m\u001b[0m\n\u001b[0;32m----> 5\u001b[0;31m     \u001b[0mall_data_fft\u001b[0m\u001b[0;34m[\u001b[0m\u001b[0mactivity\u001b[0m\u001b[0;34m]\u001b[0m \u001b[0;34m=\u001b[0m \u001b[0;34m[\u001b[0m\u001b[0mfft\u001b[0m\u001b[0;34m.\u001b[0m\u001b[0mrfft\u001b[0m\u001b[0;34m(\u001b[0m\u001b[0mtrial_data\u001b[0m\u001b[0;34m,\u001b[0m\u001b[0maxis\u001b[0m\u001b[0;34m=\u001b[0m\u001b[0;36m0\u001b[0m\u001b[0;34m)\u001b[0m \u001b[0;32mfor\u001b[0m \u001b[0mtrial_data\u001b[0m \u001b[0;32min\u001b[0m \u001b[0mtrials_data\u001b[0m\u001b[0;34m]\u001b[0m\u001b[0;34m\u001b[0m\u001b[0m\n\u001b[0m\u001b[1;32m      6\u001b[0m \u001b[0;34m\u001b[0m\u001b[0m\n\u001b[1;32m      7\u001b[0m \u001b[0;34m\u001b[0m\u001b[0m\n",
      "\u001b[0;32m<ipython-input-9-72625968d27e>\u001b[0m in \u001b[0;36m<listcomp>\u001b[0;34m(.0)\u001b[0m\n\u001b[1;32m      3\u001b[0m \u001b[0;31m# do fft for each trial.\u001b[0m\u001b[0;34m\u001b[0m\u001b[0;34m\u001b[0m\u001b[0m\n\u001b[1;32m      4\u001b[0m \u001b[0;32mfor\u001b[0m \u001b[0mactivity\u001b[0m\u001b[0;34m,\u001b[0m \u001b[0mtrials_data\u001b[0m \u001b[0;32min\u001b[0m \u001b[0mall_data\u001b[0m\u001b[0;34m.\u001b[0m\u001b[0mitems\u001b[0m\u001b[0;34m(\u001b[0m\u001b[0;34m)\u001b[0m\u001b[0;34m:\u001b[0m\u001b[0;34m\u001b[0m\u001b[0m\n\u001b[0;32m----> 5\u001b[0;31m     \u001b[0mall_data_fft\u001b[0m\u001b[0;34m[\u001b[0m\u001b[0mactivity\u001b[0m\u001b[0;34m]\u001b[0m \u001b[0;34m=\u001b[0m \u001b[0;34m[\u001b[0m\u001b[0mfft\u001b[0m\u001b[0;34m.\u001b[0m\u001b[0mrfft\u001b[0m\u001b[0;34m(\u001b[0m\u001b[0mtrial_data\u001b[0m\u001b[0;34m,\u001b[0m\u001b[0maxis\u001b[0m\u001b[0;34m=\u001b[0m\u001b[0;36m0\u001b[0m\u001b[0;34m)\u001b[0m \u001b[0;32mfor\u001b[0m \u001b[0mtrial_data\u001b[0m \u001b[0;32min\u001b[0m \u001b[0mtrials_data\u001b[0m\u001b[0;34m]\u001b[0m\u001b[0;34m\u001b[0m\u001b[0m\n\u001b[0m\u001b[1;32m      6\u001b[0m \u001b[0;34m\u001b[0m\u001b[0m\n\u001b[1;32m      7\u001b[0m \u001b[0;34m\u001b[0m\u001b[0m\n",
      "\u001b[0;31mAttributeError\u001b[0m: 'function' object has no attribute 'rfft'"
     ]
    }
   ],
   "source": [
    "all_data_fft = {}\n",
    "\n",
    "# do fft for each trial.\n",
    "for activity, trials_data in all_data.items():\n",
    "    all_data_fft[activity] = [fft.rfft(trial_data,axis=0) for trial_data in trials_data]\n",
    "    \n",
    "\n",
    "def displayFFTtrial(trial_data):\n",
    "    f,(ax1, ax2, ax3) = plt.subplots(3, sharex=True, sharey=True)\n",
    "    y = trial_data[:,0]\n",
    "    x = fft.rfftfreq(shape(y)[0], d=1./fs)\n",
    "    ax1.plot(x,y)\n",
    "    ax1.set_ylabel('x')\n",
    "    ax2.plot(x,trial_data[:,1])\n",
    "    ax2.set_ylabel('y')\n",
    "    ax3.plot(x,trial_data[:,2])\n",
    "    ax3.set_ylabel('z')\n",
    "    ax3.set_xlabel('frequency (s)')\n",
    "\n",
    "for activity, trials_data in all_data_fft.items():\n",
    "    displayFFTtrial(trials_data[0])\n",
    "    plt.suptitle(activity + ' fourier')"
   ]
  },
  {
   "cell_type": "markdown",
   "metadata": {},
   "source": [
    "TODO: Build classifier"
   ]
  },
  {
   "cell_type": "code",
   "execution_count": 68,
   "metadata": {
    "collapsed": false
   },
   "outputs": [],
   "source": [
    "from itertools import tee\n",
    "from future_builtins import zip\n",
    "def pairwise(iterable):\n",
    "    \"s -> (s0,s1), (s1,s2), (s2, s3), ...\"\n",
    "    a, b = tee(iterable)\n",
    "    next(b, None)\n",
    "    return zip(a, b)\n",
    "\n",
    "def get_fft_feats(trial_data,fs = 32.0, freq_res = 0.2,freq_max = 8.001,combine=False):\n",
    "    if combine:\n",
    "        trial_data = np.linalg.norm(trial_data,axis=1)\n",
    "    fourier = fft(trial_data,axis=0)\n",
    "    xf = fftfreq(trial_data.shape[0],1/fs)\n",
    "    xf_bins = np.arange(0,freq_max,freq_res)\n",
    "    f_bins = []\n",
    "    for freq_bin_min,freq_bin_max in pairwise(xf_bins):\n",
    "        these_f = np.where((xf < freq_bin_max) & (xf > freq_bin_min))\n",
    "        f_bins.append(np.nanmean(np.abs(np.real(fourier[these_f,:])),1))\n",
    "    f_bins = np.concatenate(f_bins)\n",
    "    \n",
    "    xf_bins = xf_bins[:-1] + (xf_bins[1]-xf_bins[0])/2\n",
    "    return xf_bins,f_bins.ravel()\n",
    "\n",
    "trial_data = all_data['Climb stairs'][0]\n",
    "xf_bins,f_bins = get_fft_feats(trial_data)"
   ]
  },
  {
   "cell_type": "code",
   "execution_count": 69,
   "metadata": {
    "collapsed": false
   },
   "outputs": [],
   "source": [
    "# rearrange data for classifier\n",
    "X = []\n",
    "y = []\n",
    "labels = []\n",
    "for count,(activity, trials_data) in enumerate(all_data.items()):\n",
    "    X.append([get_fft_feats(trial_data)[1] for trial_data in trials_data])\n",
    "    y.append(count*np.ones(np.shape(trials_data)))\n",
    "    labels.append(activity)\n",
    "X = np.concatenate(X)\n",
    "y = np.concatenate(y)\n",
    "labels = np.array(labels)"
   ]
  },
  {
   "cell_type": "code",
   "execution_count": 73,
   "metadata": {
    "collapsed": false
   },
   "outputs": [],
   "source": [
    "from sklearn import svm\n",
    "from sklearn import cross_validation\n",
    "from sklearn.metrics import confusion_matrix\n",
    "from sklearn.preprocessing import Imputer\n",
    "imp = Imputer(missing_values='NaN', strategy='mean', axis=0)\n",
    "\n",
    "\n",
    "X_train, X_test, y_train, y_test = cross_validation.train_test_split \\\n",
    "(X, y, test_size=0.3, random_state=0)\n",
    "\n",
    "imp.fit(X_train)\n",
    "clf = svm.SVC(kernel='linear', C=1).fit(imp.transform(X_train), y_train)\n",
    "y_pred = clf.predict(imp.transform(X_test))  \n",
    "\n",
    "C = confusion_matrix(y_test, y_pred)"
   ]
  },
  {
   "cell_type": "code",
   "execution_count": 80,
   "metadata": {
    "collapsed": false
   },
   "outputs": [
    {
     "data": {
      "text/plain": [
       "[]"
      ]
     },
     "execution_count": 80,
     "metadata": {},
     "output_type": "execute_result"
    }
   ],
   "source": [
    "import scipy.cluster.hierarchy as sch\n",
    "Z= sch.linkage(1-C)\n",
    "Z2 = sch.dendrogram(Z)\n",
    "C = C[:,Z2['leaves']]\n",
    "C = C[Z2['leaves'],:]\n",
    "\n",
    "fig = plt.figure(figsize=(8,8))\n",
    "ax2 = fig.add_axes([0.3,0.71,0.6,0.2])\n",
    "sch.dendrogram(Z)\n",
    "ax2.set_xticks([])\n",
    "ax2.set_yticks([])\n",
    "ax2.set_title('score: ' + str(clf.score(imp.transform(X_test),y_test)))\n",
    "\n",
    "\n",
    "axmatrix = fig.add_axes([0.3,0.1,0.6,0.6])\n",
    "im = axmatrix.matshow(C, aspect='auto', origin='lower',cmap=plt.cm.YlGnBu)\n",
    "axmatrix.set_yticks(np.arange(C.shape[0]))\n",
    "axmatrix.set_yticklabels(labels[Z2['leaves']])\n",
    "ax2.set_xticks([])"
   ]
  },
  {
   "cell_type": "code",
   "execution_count": null,
   "metadata": {
    "collapsed": true
   },
   "outputs": [],
   "source": [
    "plt.cm.YlGnBu"
   ]
  }
 ],
 "metadata": {
  "kernelspec": {
   "display_name": "Python 2",
   "language": "python",
   "name": "python2"
  },
  "language_info": {
   "codemirror_mode": {
    "name": "ipython",
    "version": 2
   },
   "file_extension": ".py",
   "mimetype": "text/x-python",
   "name": "python",
   "nbconvert_exporter": "python",
   "pygments_lexer": "ipython2",
   "version": "2.7.6"
  }
 },
 "nbformat": 4,
 "nbformat_minor": 0
}
